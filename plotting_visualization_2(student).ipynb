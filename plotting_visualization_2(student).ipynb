{
 "cells": [
  {
   "cell_type": "markdown",
   "metadata": {},
   "source": [
    "# 2. 그래프와 시각화"
   ]
  },
  {
   "cell_type": "markdown",
   "metadata": {},
   "source": [
    "## 기본 설정"
   ]
  },
  {
   "cell_type": "code",
   "execution_count": 1,
   "metadata": {},
   "outputs": [],
   "source": [
    "import numpy as np\n",
    "import pandas as pd\n",
    "PREVIOUS_MAX_ROWS = pd.options.display.max_rows\n",
    "pd.options.display.max_rows = 20\n",
    "np.set_printoptions(precision=4, suppress=True)\n",
    "np.random.seed(12345)"
   ]
  },
  {
   "cell_type": "code",
   "execution_count": 2,
   "metadata": {},
   "outputs": [],
   "source": [
    "import matplotlib.pyplot as plt\n",
    "import matplotlib\n",
    "plt.rc('figure', figsize=(10, 6))  # 그림 크기 설정"
   ]
  },
  {
   "cell_type": "markdown",
   "metadata": {},
   "source": [
    "## matplotlib.pyplot의 시각화 도구 API"
   ]
  },
  {
   "cell_type": "markdown",
   "metadata": {},
   "source": [
    "### `matplotlib.pyplot.plot()`\n",
    "- 2차원 그래프를 그리는 함수이다.\n",
    "- y축 좌표들의 리스트 또는 어레이만 인자로 넣어줄 때이다. x축 좌표는 해당 값들의 인덱스로 사용됨\n",
    "- [참고](https://matplotlib.org/stable/api/_as_gen/matplotlib.pyplot.plot.html)"
   ]
  },
  {
   "cell_type": "markdown",
   "metadata": {},
   "source": []
  },
  {
   "cell_type": "markdown",
   "metadata": {},
   "source": [
    "### `Figure` 객체와 서브플롯(subplot)"
   ]
  },
  {
   "cell_type": "markdown",
   "metadata": {},
   "source": [
    "- 모든 그래프는 `Figure` 객체 내에 존재\n",
    "- `matplotlib.pyplot.figure()` 함수에 의해 생성"
   ]
  },
  {
   "cell_type": "markdown",
   "metadata": {},
   "source": [
    "__참고:__ \n",
    "- 주피터 노트북을 사용시  `matplotlib.pyplot.figure()`, `matplotlib.pyplot.add_subplot()` 등 그래프를 그래프화 관련된 함수들은 모두 같은 셀에서 실행되어야 한다. "
   ]
  },
  {
   "cell_type": "code",
   "execution_count": null,
   "metadata": {},
   "outputs": [],
   "source": []
  },
  {
   "cell_type": "markdown",
   "metadata": {},
   "source": [
    "- 서브플롯(subplot)\n",
    "    - `Figure` 객체 내에 그래프를 그리기 위해 서브플롯(subplot)을 지정\n",
    "    - `add_subplot()` 함수를 이용하여 지정된 `Figure` 객체안에 그래프를 그릴 공간을 만들어 보자"
   ]
  },
  {
   "cell_type": "code",
   "execution_count": null,
   "metadata": {},
   "outputs": [],
   "source": []
  },
  {
   "cell_type": "markdown",
   "metadata": {},
   "source": [
    "- subplot 추가"
   ]
  },
  {
   "cell_type": "code",
   "execution_count": null,
   "metadata": {},
   "outputs": [],
   "source": []
  },
  {
   "cell_type": "markdown",
   "metadata": {},
   "source": [
    "#### 그래프 삽입\n",
    "- `matplotlib.pyplot.plot()`\n",
    "- `<object>.plot()`"
   ]
  },
  {
   "cell_type": "markdown",
   "metadata": {},
   "source": [
    "##### 방법 1: `matplotlib.pyplot.plot()`"
   ]
  },
  {
   "cell_type": "markdown",
   "metadata": {},
   "source": [
    "- 마지막에 선언된 서브플롯에 그래프를 그린다.\n",
    "- 예) 누적합을 나타내는 그래프를 그려보자"
   ]
  },
  {
   "cell_type": "code",
   "execution_count": null,
   "metadata": {},
   "outputs": [],
   "source": []
  },
  {
   "cell_type": "markdown",
   "metadata": {},
   "source": [
    "##### 방식 2: `객체명.plot()` 함수 활용"
   ]
  },
  {
   "cell_type": "markdown",
   "metadata": {},
   "source": [
    "- 특정 서브플롯에 그래프를 삽입하려면 객체 이름과 함께 `plot()` 함수 등을 호출"
   ]
  },
  {
   "cell_type": "code",
   "execution_count": null,
   "metadata": {},
   "outputs": [],
   "source": []
  },
  {
   "cell_type": "markdown",
   "metadata": {},
   "source": [
    "#### 서브플롯 관리"
   ]
  },
  {
   "cell_type": "markdown",
   "metadata": {},
   "source": [
    "- `matplotlib.pyplot.subplots()`\n",
    "    - 여러 개의 서브플롯을 포함하는 `Figure` 객체를 관리해준다.\n",
    "\n",
    "- 예) 2x3 크기의 서브플롯을 담은 (2,3) 모양의 넘파이 어레이로 생성."
   ]
  },
  {
   "cell_type": "code",
   "execution_count": null,
   "metadata": {},
   "outputs": [],
   "source": []
  },
  {
   "cell_type": "markdown",
   "metadata": {},
   "source": [
    "- `plt.subplots_adjust()` \n",
    "    - 각 서브플롯 사이의 여백을 조절\n",
    "    - 여백의 크기는 그래프의 크기와 숫자에 의존한다."
   ]
  },
  {
   "cell_type": "markdown",
   "metadata": {},
   "source": [
    "- 예) 여백이 0인 경우"
   ]
  },
  {
   "cell_type": "code",
   "execution_count": null,
   "metadata": {},
   "outputs": [],
   "source": []
  },
  {
   "cell_type": "markdown",
   "metadata": {},
   "source": [
    "- 예) 여백이 1인 경우"
   ]
  },
  {
   "cell_type": "code",
   "execution_count": null,
   "metadata": {},
   "outputs": [],
   "source": []
  },
  {
   "cell_type": "markdown",
   "metadata": {},
   "source": [
    "### 색상, 마커, 선 스타일"
   ]
  },
  {
   "cell_type": "markdown",
   "metadata": {},
   "source": [
    "- 그래프의 속성을 변경하면 스타일이 변경된다.\n",
    "- 방법 1: 문자열 방식\n",
    "\n",
    "```python\n",
    "ax.plot(x, y, 'g--')\n",
    "```"
   ]
  },
  {
   "cell_type": "markdown",
   "metadata": {},
   "source": [
    "- 방법 2: 키워드 인자 지정 방식\n",
    "\n",
    "```python\n",
    "ax.plot(x, y, linestyle='--', color='g')\n",
    "```"
   ]
  },
  {
   "cell_type": "code",
   "execution_count": null,
   "metadata": {},
   "outputs": [],
   "source": []
  },
  {
   "cell_type": "markdown",
   "metadata": {},
   "source": [
    "색상은 RGB 값을 HEX 코드를 이용하여 직접 사용 가능\n",
    "- [RGB HEX 코드 link](https://www.w3schools.com/colors/colors_rgb.asp)"
   ]
  },
  {
   "cell_type": "markdown",
   "metadata": {},
   "source": [
    "#### 여러 그래프 하나의 서브플롯에 그리기"
   ]
  },
  {
   "cell_type": "markdown",
   "metadata": {},
   "source": [
    "- 여러 스타일의 그래프를 하나의 서브플롯에 그려 다양한 정보를 동시에 전달"
   ]
  },
  {
   "cell_type": "code",
   "execution_count": null,
   "metadata": {},
   "outputs": [],
   "source": []
  },
  {
   "cell_type": "markdown",
   "metadata": {},
   "source": [
    "- 범례 표기\n",
    "    - `plt.legend()` \n",
    "    - `loc='best'`: 범례 위지 지정. 기본값은 auto"
   ]
  },
  {
   "cell_type": "code",
   "execution_count": null,
   "metadata": {},
   "outputs": [],
   "source": []
  },
  {
   "cell_type": "markdown",
   "metadata": {},
   "source": [
    "### 눈금과 라벨"
   ]
  },
  {
   "cell_type": "markdown",
   "metadata": {},
   "source": [
    "#### 이미지 타이틀, 축 이름, 눈금, 눈금 이름 지정"
   ]
  },
  {
   "cell_type": "markdown",
   "metadata": {},
   "source": [
    "##### 방법 1: 파이플롯 객체의 메서드 활용\n",
    "- `set_xticks()` 함수: 눈금 지정\n",
    "- `set_xticklabels()` 함수: 눈금 라벨 지정\n",
    "- `set_title()` 함수: 그래프 타이틀 지정\n",
    "- `set_xlabel()` 함수: x축 이름 지정"
   ]
  },
  {
   "cell_type": "code",
   "execution_count": 20,
   "metadata": {},
   "outputs": [],
   "source": []
  },
  {
   "cell_type": "markdown",
   "metadata": {},
   "source": [
    "##### 방법 2: pyplot 모듈의 함수 활용\n",
    "- `plt.xticks()` 함수: 눈금 및 눈금 라벨 지정\n",
    "- `plt.title()` 함수: 그래프 타이틀 지정\n",
    "- `plt.xlabel()` 함수: x축 이름 지정"
   ]
  },
  {
   "cell_type": "code",
   "execution_count": null,
   "metadata": {},
   "outputs": [],
   "source": []
  },
  {
   "cell_type": "markdown",
   "metadata": {},
   "source": [
    "### 서브플롯에 주석 및 도형 추가하기"
   ]
  },
  {
   "cell_type": "markdown",
   "metadata": {},
   "source": [
    "#### 주석 추가"
   ]
  },
  {
   "cell_type": "markdown",
   "metadata": {},
   "source": [
    "설명을 위해 S&P 500 (스탠다드 앤 푸어스, Standard and Poor's 500)의 미국 500대 기업을 포함한 \n",
    "주식시장지수 데이터로 그래프를 생성하고 2007-2008년 사이에 있었던 \n",
    "재정위기와 관련된 중요한 날짜를 주석으로 추가한다."
   ]
  },
  {
   "cell_type": "code",
   "execution_count": 16,
   "metadata": {},
   "outputs": [],
   "source": [
    "spx_path = \"https://raw.githubusercontent.com/myoh0623/dataset/main/spx.csv\""
   ]
  },
  {
   "cell_type": "code",
   "execution_count": null,
   "metadata": {},
   "outputs": [],
   "source": []
  },
  {
   "cell_type": "markdown",
   "metadata": {},
   "source": [
    "시간 컬럼을 행의 인덱스로 사용하자\n",
    "\n",
    "- `index_col=0`: 0번 열(column)을 인덱스로 사용\n",
    "- `parse_dates=True`: 년월일까지만 구분해서 인덱스로 사용. 기본값은 `False`."
   ]
  },
  {
   "cell_type": "code",
   "execution_count": null,
   "metadata": {},
   "outputs": [],
   "source": []
  },
  {
   "cell_type": "markdown",
   "metadata": {},
   "source": [
    "- 위 데이터를 그래프로 나타내 보자"
   ]
  },
  {
   "cell_type": "code",
   "execution_count": null,
   "metadata": {},
   "outputs": [],
   "source": []
  },
  {
   "cell_type": "markdown",
   "metadata": {},
   "source": [
    "2007-2008년 세계적 금융위기 지점을 아래 내용으로 그래프에 주석으로 추가해보자.\n",
    "\n",
    "- 2007년 10월 11일: 주가 강세장 위치 'Peak of bull market'\n",
    "- 2008년 3월 12일: 베어스턴스 투자은행 붕괴 'Bear Stearns Fails'\n",
    "- 2008년 9월 15일: 레만 투자은행 파산 'Lehman Bankruptcy'"
   ]
  },
  {
   "cell_type": "code",
   "execution_count": null,
   "metadata": {},
   "outputs": [],
   "source": []
  },
  {
   "cell_type": "markdown",
   "metadata": {},
   "source": [
    "#### `annotate()`"
   ]
  },
  {
   "cell_type": "markdown",
   "metadata": {},
   "source": [
    "- `xt` 속성: 화살표 머리 위치\n",
    "- `xytext` 속성: 텍스트 위치\n",
    "- `arrowprops` 속성: 화살표 속성\n",
    "- `horizontalalignment`: 텍스트 좌우 줄맞춤\n",
    "- `verticalalignment`: 텍스트 상하 줄맞춤"
   ]
  },
  {
   "cell_type": "code",
   "execution_count": null,
   "metadata": {},
   "outputs": [],
   "source": [
    "from datetime import datetime\n",
    "\n",
    "fig = plt.figure()\n",
    "ax = fig.add_subplot(1, 1, 1)\n",
    "\n",
    "spx.plot(ax=ax, style='k-')\n",
    "\n",
    "for date, label in crisis_data:\n",
    "    ax.annotate(label, \n",
    "                xy=(date, spx.asof(date) + 75),\n",
    "                xytext=(date, spx.asof(date) + 225),\n",
    "                arrowprops=dict(facecolor='black', headwidth=4, width=2,\n",
    "                                headlength=4),\n",
    "                horizontalalignment='left', verticalalignment='top')\n",
    "plt.show()"
   ]
  },
  {
   "cell_type": "markdown",
   "metadata": {},
   "source": [
    "#### 도형 추가"
   ]
  },
  {
   "cell_type": "markdown",
   "metadata": {},
   "source": [
    "지정된 함수를 이용하여 다양한 도형을 추가 가능\n",
    "\n",
    "- `plt.<도형명>((위치), 크기)`\n",
    "- `plt.Rectangle()`: 직사각형. 왼편 아래 좌표 및 가로 세로 길이\n",
    "- `plt.Circle()`: 원. 원의 중심 좌표 및 반지름.\n",
    "- `plt.Polygon()`: 다각형. 각 꼭지점의 좌표."
   ]
  },
  {
   "cell_type": "markdown",
   "metadata": {},
   "source": [
    "__주의사항:__\n",
    "- x, y축의 눈금이 다르면 도형이 정확하게 표현되지 않을 수 있다. \n",
    "- 예를 들어, 두 축의 척도가 다르면 원이 타원으로 보일수 있음\n",
    "    - `Figure` 객체를 생성할 때 두 축의 크기를 동일하게 지정하면 척도가 동일해 진다. "
   ]
  },
  {
   "cell_type": "code",
   "execution_count": null,
   "metadata": {},
   "outputs": [],
   "source": [
    "fig = plt.figure()\n",
    "ax = fig.add_subplot(1, 1, 1)\n",
    "\n",
    "rect = plt.Rectangle((0.2, 0.75), 0.4, 0.15, color='k', alpha=0.3)\n",
    "circ = plt.Circle((0.7, 0.2), 0.15, color='b', alpha=0.3)\n",
    "pgon = plt.Polygon([[0.15, 0.15], [0.35, 0.4], [0.2, 0.6]],\n",
    "                   color='g', alpha=0.5)\n",
    "\n",
    "ax.add_patch(rect)\n",
    "ax.add_patch(circ)\n",
    "ax.add_patch(pgon)"
   ]
  },
  {
   "cell_type": "code",
   "execution_count": null,
   "metadata": {},
   "outputs": [],
   "source": [
    "fig = plt.figure(figsize=(10, 10))\n",
    "\n",
    "ax = fig.add_subplot(1, 1, 1)\n",
    "rect = plt.Rectangle((0.2, 0.75), 0.4, 0.15, color='k', alpha=0.3)\n",
    "circ = plt.Circle((0.7, 0.2), 0.15, color='b', alpha=0.3)\n",
    "pgon = plt.Polygon([[0.15, 0.15], [0.35, 0.4], [0.2, 0.6]],\n",
    "                   color='g', alpha=0.5)\n",
    "ax.add_patch(rect)\n",
    "ax.add_patch(circ)\n",
    "ax.add_patch(pgon)"
   ]
  },
  {
   "cell_type": "code",
   "execution_count": null,
   "metadata": {},
   "outputs": [],
   "source": [
    "np.random.seed(12345)\n",
    "\n",
    "\n",
    "fig = plt.figure(figsize=(10, 5))\n",
    "\n",
    "ax1 = fig.add_subplot(1, 2, 1)\n",
    "ax2 = fig.add_subplot(1, 2, 2)\n",
    "\n",
    "ax1.hist(np.random.randn(100), bins=20, color='k', alpha=.3)\n",
    "ax2.scatter(np.arange(30), np.arange(30) + 3 * np.random.randn(30))\n",
    "circ = plt.Circle((10, 10), 5, color='b', alpha=0.3)\n",
    "ax2.add_patch(circ)\n",
    "    \n",
    "\n",
    "plt.show()"
   ]
  },
  {
   "cell_type": "markdown",
   "metadata": {},
   "source": [
    "### 그래프 저장하기"
   ]
  },
  {
   "cell_type": "markdown",
   "metadata": {},
   "source": [
    "`plt.savefig()`\n",
    "\n",
    "- `dpi=100`: 인치당 픽셀 수. 저장된 이미지의 해상도 지정.\n",
    "- `bbox_inches=tight`: 이미지별 둘레의 공백 지정. 여기서는 공백을 거의 사용하지 말라는 의미임."
   ]
  },
  {
   "cell_type": "code",
   "execution_count": null,
   "metadata": {},
   "outputs": [],
   "source": []
  },
  {
   "cell_type": "markdown",
   "metadata": {},
   "source": [
    "### matplotlib 기본 설정"
   ]
  },
  {
   "cell_type": "markdown",
   "metadata": {},
   "source": [
    "`plt.rc()` 함수를 이용하여 matplot을 이용하여 생성되는 이미지 관련 설정을 전역적으로 지정할 수 있다.\n",
    "사용되는 형식은 다음과 같다.\n",
    "\n",
    "- 첫째 인자: 속성 지정\n",
    "- 둘째 인자: 속성값 지정\n",
    "\n",
    "__참고:__ 'rc' 는 기본설정을 의미하는 단어로 많이 사용된다. \n",
    "풀어 쓰면 \"Run at startup and they Configure your stuff\", \n",
    "즉, \"프로그램이 시작할 때 기본값들을 설정한다\"의 의미이다.\n",
    "'.vimrc', '.bashrc', '.zshrc' 등 많은 애플리케이션의 초기설정 파일명에 사용되곤 한다.\n",
    "\n",
    "아래 코드는 이미지의 사이즈를 지정한다."
   ]
  },
  {
   "cell_type": "code",
   "execution_count": 34,
   "metadata": {},
   "outputs": [],
   "source": [
    "plt.rc('figure', figsize=(10, 10))"
   ]
  },
  {
   "cell_type": "code",
   "execution_count": null,
   "metadata": {},
   "outputs": [],
   "source": [
    "fig = plt.figure()\n",
    "ax = fig.add_subplot(1, 1, 1)\n",
    "rect = plt.Rectangle((0.2, 0.75), 0.4, 0.15, color='k', alpha=0.3)\n",
    "circ = plt.Circle((0.7, 0.2), 0.15, color='b', alpha=0.3)\n",
    "pgon = plt.Polygon([[0.15, 0.15], [0.35, 0.4], [0.2, 0.6]],\n",
    "                   color='g', alpha=0.5)\n",
    "ax.add_patch(rect)\n",
    "ax.add_patch(circ)\n",
    "ax.add_patch(pgon)\n",
    "plt.show()"
   ]
  },
  {
   "cell_type": "markdown",
   "metadata": {},
   "source": [
    "아래 코드는 다양한 속성을 지정하는 방식을 보여준다."
   ]
  },
  {
   "cell_type": "markdown",
   "metadata": {},
   "source": [
    "* 이미지 사이즈 지정"
   ]
  },
  {
   "cell_type": "code",
   "execution_count": null,
   "metadata": {},
   "outputs": [],
   "source": []
  },
  {
   "cell_type": "markdown",
   "metadata": {},
   "source": [
    "* 선 속성 지정"
   ]
  },
  {
   "cell_type": "code",
   "execution_count": null,
   "metadata": {},
   "outputs": [],
   "source": []
  },
  {
   "cell_type": "markdown",
   "metadata": {},
   "source": [
    "* 텍스트 폰트 속성 지정"
   ]
  },
  {
   "cell_type": "code",
   "execution_count": null,
   "metadata": {},
   "outputs": [],
   "source": []
  },
  {
   "cell_type": "markdown",
   "metadata": {},
   "source": [
    "* 그래프 구성 요소의 색상 지정"
   ]
  },
  {
   "cell_type": "code",
   "execution_count": null,
   "metadata": {},
   "outputs": [],
   "source": []
  },
  {
   "cell_type": "markdown",
   "metadata": {},
   "source": [
    "아래 코드는 앞서 설정된 다양한 속성을 반영한 결과를 보여준다."
   ]
  },
  {
   "cell_type": "code",
   "execution_count": null,
   "metadata": {},
   "outputs": [],
   "source": [
    "from datetime import datetime\n",
    "\n",
    "fig = plt.figure()\n",
    "ax = fig.add_subplot(1, 1, 1)\n",
    "\n",
    "spx.plot(ax=ax, style='-')\n",
    "\n",
    "for date, label in crisis_data:\n",
    "    ax.annotate(label, \n",
    "                xy=(date, spx.asof(date) + 75),\n",
    "                xytext=(date, spx.asof(date) + 225),\n",
    "                arrowprops=dict(facecolor='black', headwidth=4, width=2,\n",
    "                                headlength=4),\n",
    "                horizontalalignment='left', verticalalignment='top')\n",
    "\n",
    "plt.show()"
   ]
  }
 ],
 "metadata": {
  "kernelspec": {
   "display_name": "Python 3.9.6 ('.pandas': venv)",
   "language": "python",
   "name": "python3"
  },
  "language_info": {
   "codemirror_mode": {
    "name": "ipython",
    "version": 3
   },
   "file_extension": ".py",
   "mimetype": "text/x-python",
   "name": "python",
   "nbconvert_exporter": "python",
   "pygments_lexer": "ipython3",
   "version": "3.9.6"
  },
  "vscode": {
   "interpreter": {
    "hash": "bd064925bd113e1ee6d2f38400965eb54b0e732c955c7eabce2e1fb320e97dda"
   }
  }
 },
 "nbformat": 4,
 "nbformat_minor": 4
}
