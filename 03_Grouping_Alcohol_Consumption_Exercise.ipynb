{
  "cells": [
    {
      "cell_type": "markdown",
      "metadata": {
        "id": "elnfFiCwHgX5"
      },
      "source": [
        "### Step 1. 필요한 라이브러리 들을 import 하세요"
      ]
    },
    {
      "cell_type": "code",
      "execution_count": 1,
      "metadata": {
        "id": "6fIhQp00HgX9"
      },
      "outputs": [],
      "source": [
        "import pandas as pd\n",
        "import numpy as np"
      ]
    },
    {
      "cell_type": "markdown",
      "metadata": {
        "id": "oP5865jMHgX-"
      },
      "source": [
        "### Step 2. 다음 주소로 부터 dataset을 import 하세요 [address](https://raw.githubusercontent.com/myoh0623/dataset/main/drinks.csv). "
      ]
    },
    {
      "cell_type": "code",
      "execution_count": 2,
      "metadata": {
        "id": "yFFzSO0eHgX_"
      },
      "outputs": [
        {
          "data": {
            "text/html": [
              "<div>\n",
              "<style scoped>\n",
              "    .dataframe tbody tr th:only-of-type {\n",
              "        vertical-align: middle;\n",
              "    }\n",
              "\n",
              "    .dataframe tbody tr th {\n",
              "        vertical-align: top;\n",
              "    }\n",
              "\n",
              "    .dataframe thead th {\n",
              "        text-align: right;\n",
              "    }\n",
              "</style>\n",
              "<table border=\"1\" class=\"dataframe\">\n",
              "  <thead>\n",
              "    <tr style=\"text-align: right;\">\n",
              "      <th></th>\n",
              "      <th>country</th>\n",
              "      <th>beer_servings</th>\n",
              "      <th>spirit_servings</th>\n",
              "      <th>wine_servings</th>\n",
              "      <th>total_litres_of_pure_alcohol</th>\n",
              "      <th>continent</th>\n",
              "    </tr>\n",
              "  </thead>\n",
              "  <tbody>\n",
              "    <tr>\n",
              "      <th>0</th>\n",
              "      <td>Afghanistan</td>\n",
              "      <td>0</td>\n",
              "      <td>0</td>\n",
              "      <td>0</td>\n",
              "      <td>0.0</td>\n",
              "      <td>AS</td>\n",
              "    </tr>\n",
              "    <tr>\n",
              "      <th>1</th>\n",
              "      <td>Albania</td>\n",
              "      <td>89</td>\n",
              "      <td>132</td>\n",
              "      <td>54</td>\n",
              "      <td>4.9</td>\n",
              "      <td>EU</td>\n",
              "    </tr>\n",
              "    <tr>\n",
              "      <th>2</th>\n",
              "      <td>Algeria</td>\n",
              "      <td>25</td>\n",
              "      <td>0</td>\n",
              "      <td>14</td>\n",
              "      <td>0.7</td>\n",
              "      <td>AF</td>\n",
              "    </tr>\n",
              "    <tr>\n",
              "      <th>3</th>\n",
              "      <td>Andorra</td>\n",
              "      <td>245</td>\n",
              "      <td>138</td>\n",
              "      <td>312</td>\n",
              "      <td>12.4</td>\n",
              "      <td>EU</td>\n",
              "    </tr>\n",
              "    <tr>\n",
              "      <th>4</th>\n",
              "      <td>Angola</td>\n",
              "      <td>217</td>\n",
              "      <td>57</td>\n",
              "      <td>45</td>\n",
              "      <td>5.9</td>\n",
              "      <td>AF</td>\n",
              "    </tr>\n",
              "    <tr>\n",
              "      <th>...</th>\n",
              "      <td>...</td>\n",
              "      <td>...</td>\n",
              "      <td>...</td>\n",
              "      <td>...</td>\n",
              "      <td>...</td>\n",
              "      <td>...</td>\n",
              "    </tr>\n",
              "    <tr>\n",
              "      <th>188</th>\n",
              "      <td>Venezuela</td>\n",
              "      <td>333</td>\n",
              "      <td>100</td>\n",
              "      <td>3</td>\n",
              "      <td>7.7</td>\n",
              "      <td>SA</td>\n",
              "    </tr>\n",
              "    <tr>\n",
              "      <th>189</th>\n",
              "      <td>Vietnam</td>\n",
              "      <td>111</td>\n",
              "      <td>2</td>\n",
              "      <td>1</td>\n",
              "      <td>2.0</td>\n",
              "      <td>AS</td>\n",
              "    </tr>\n",
              "    <tr>\n",
              "      <th>190</th>\n",
              "      <td>Yemen</td>\n",
              "      <td>6</td>\n",
              "      <td>0</td>\n",
              "      <td>0</td>\n",
              "      <td>0.1</td>\n",
              "      <td>AS</td>\n",
              "    </tr>\n",
              "    <tr>\n",
              "      <th>191</th>\n",
              "      <td>Zambia</td>\n",
              "      <td>32</td>\n",
              "      <td>19</td>\n",
              "      <td>4</td>\n",
              "      <td>2.5</td>\n",
              "      <td>AF</td>\n",
              "    </tr>\n",
              "    <tr>\n",
              "      <th>192</th>\n",
              "      <td>Zimbabwe</td>\n",
              "      <td>64</td>\n",
              "      <td>18</td>\n",
              "      <td>4</td>\n",
              "      <td>4.7</td>\n",
              "      <td>AF</td>\n",
              "    </tr>\n",
              "  </tbody>\n",
              "</table>\n",
              "<p>193 rows × 6 columns</p>\n",
              "</div>"
            ],
            "text/plain": [
              "         country  beer_servings  spirit_servings  wine_servings  \\\n",
              "0    Afghanistan              0                0              0   \n",
              "1        Albania             89              132             54   \n",
              "2        Algeria             25                0             14   \n",
              "3        Andorra            245              138            312   \n",
              "4         Angola            217               57             45   \n",
              "..           ...            ...              ...            ...   \n",
              "188    Venezuela            333              100              3   \n",
              "189      Vietnam            111                2              1   \n",
              "190        Yemen              6                0              0   \n",
              "191       Zambia             32               19              4   \n",
              "192     Zimbabwe             64               18              4   \n",
              "\n",
              "     total_litres_of_pure_alcohol continent  \n",
              "0                             0.0        AS  \n",
              "1                             4.9        EU  \n",
              "2                             0.7        AF  \n",
              "3                            12.4        EU  \n",
              "4                             5.9        AF  \n",
              "..                            ...       ...  \n",
              "188                           7.7        SA  \n",
              "189                           2.0        AS  \n",
              "190                           0.1        AS  \n",
              "191                           2.5        AF  \n",
              "192                           4.7        AF  \n",
              "\n",
              "[193 rows x 6 columns]"
            ]
          },
          "execution_count": 2,
          "metadata": {},
          "output_type": "execute_result"
        }
      ],
      "source": [
        "url = 'https://raw.githubusercontent.com/myoh0623/dataset/main/drinks.csv'\n",
        "drinks = pd.read_csv(url)\n",
        "drinks"
      ]
    },
    {
      "cell_type": "markdown",
      "metadata": {
        "id": "KQ8BAeARHgX_"
      },
      "source": [
        "### Step 3. drinks 변수에 DataFrame을 할당 하세요"
      ]
    },
    {
      "cell_type": "markdown",
      "metadata": {
        "id": "I3ku6-esHgYA"
      },
      "source": [
        "### Step 4. 각 continent별 beer_servings의 평균은 얼마인가요?"
      ]
    },
    {
      "cell_type": "code",
      "execution_count": 8,
      "metadata": {
        "id": "B0Od9-6fHgYB",
        "outputId": "c8020416-1dd7-4703-c225-ce34c5fccabe"
      },
      "outputs": [
        {
          "name": "stderr",
          "output_type": "stream",
          "text": [
            "/var/folders/c2/h79928n92258kzkwtzbxjbj80000gn/T/ipykernel_53783/3050836207.py:1: FutureWarning: The default value of numeric_only in DataFrameGroupBy.mean is deprecated. In a future version, numeric_only will default to False. Either specify numeric_only or select only columns which should be valid for the function.\n",
            "  mean = drinks.groupby(['continent']).mean()\n"
          ]
        },
        {
          "data": {
            "text/plain": [
              "continent\n",
              "AF     61.471698\n",
              "AS     37.045455\n",
              "EU    193.777778\n",
              "OC     89.687500\n",
              "SA    175.083333\n",
              "Name: beer_servings, dtype: float64"
            ]
          },
          "execution_count": 8,
          "metadata": {},
          "output_type": "execute_result"
        }
      ],
      "source": [
        "mean = drinks.groupby(['continent']).mean()\n",
        "mean[\"beer_servings\"]"
      ]
    },
    {
      "cell_type": "code",
      "execution_count": 20,
      "metadata": {},
      "outputs": [
        {
          "data": {
            "text/plain": [
              "continent\n",
              "AF     61.471698\n",
              "AS     37.045455\n",
              "EU    193.777778\n",
              "OC     89.687500\n",
              "SA    175.083333\n",
              "Name: beer_servings, dtype: float64"
            ]
          },
          "execution_count": 20,
          "metadata": {},
          "output_type": "execute_result"
        }
      ],
      "source": [
        "drinks.groupby('continent').beer_servings.mean()"
      ]
    },
    {
      "cell_type": "markdown",
      "metadata": {
        "id": "bxCDyGJQHgYC"
      },
      "source": [
        "### Step 5. 각 continent별 wine_servings의 통계량을 출력하세요"
      ]
    },
    {
      "cell_type": "code",
      "execution_count": 21,
      "metadata": {
        "id": "cbWcGAMlHgYC",
        "outputId": "8705e482-2b06-4ee4-b517-433d7ff21e6f"
      },
      "outputs": [
        {
          "data": {
            "text/html": [
              "<div>\n",
              "<style scoped>\n",
              "    .dataframe tbody tr th:only-of-type {\n",
              "        vertical-align: middle;\n",
              "    }\n",
              "\n",
              "    .dataframe tbody tr th {\n",
              "        vertical-align: top;\n",
              "    }\n",
              "\n",
              "    .dataframe thead th {\n",
              "        text-align: right;\n",
              "    }\n",
              "</style>\n",
              "<table border=\"1\" class=\"dataframe\">\n",
              "  <thead>\n",
              "    <tr style=\"text-align: right;\">\n",
              "      <th></th>\n",
              "      <th>count</th>\n",
              "      <th>mean</th>\n",
              "      <th>std</th>\n",
              "      <th>min</th>\n",
              "      <th>25%</th>\n",
              "      <th>50%</th>\n",
              "      <th>75%</th>\n",
              "      <th>max</th>\n",
              "    </tr>\n",
              "    <tr>\n",
              "      <th>continent</th>\n",
              "      <th></th>\n",
              "      <th></th>\n",
              "      <th></th>\n",
              "      <th></th>\n",
              "      <th></th>\n",
              "      <th></th>\n",
              "      <th></th>\n",
              "      <th></th>\n",
              "    </tr>\n",
              "  </thead>\n",
              "  <tbody>\n",
              "    <tr>\n",
              "      <th>AF</th>\n",
              "      <td>53.0</td>\n",
              "      <td>16.264151</td>\n",
              "      <td>38.846419</td>\n",
              "      <td>0.0</td>\n",
              "      <td>1.0</td>\n",
              "      <td>2.0</td>\n",
              "      <td>13.00</td>\n",
              "      <td>233.0</td>\n",
              "    </tr>\n",
              "    <tr>\n",
              "      <th>AS</th>\n",
              "      <td>44.0</td>\n",
              "      <td>9.068182</td>\n",
              "      <td>21.667034</td>\n",
              "      <td>0.0</td>\n",
              "      <td>0.0</td>\n",
              "      <td>1.0</td>\n",
              "      <td>8.00</td>\n",
              "      <td>123.0</td>\n",
              "    </tr>\n",
              "    <tr>\n",
              "      <th>EU</th>\n",
              "      <td>45.0</td>\n",
              "      <td>142.222222</td>\n",
              "      <td>97.421738</td>\n",
              "      <td>0.0</td>\n",
              "      <td>59.0</td>\n",
              "      <td>128.0</td>\n",
              "      <td>195.00</td>\n",
              "      <td>370.0</td>\n",
              "    </tr>\n",
              "    <tr>\n",
              "      <th>OC</th>\n",
              "      <td>16.0</td>\n",
              "      <td>35.625000</td>\n",
              "      <td>64.555790</td>\n",
              "      <td>0.0</td>\n",
              "      <td>1.0</td>\n",
              "      <td>8.5</td>\n",
              "      <td>23.25</td>\n",
              "      <td>212.0</td>\n",
              "    </tr>\n",
              "    <tr>\n",
              "      <th>SA</th>\n",
              "      <td>12.0</td>\n",
              "      <td>62.416667</td>\n",
              "      <td>88.620189</td>\n",
              "      <td>1.0</td>\n",
              "      <td>3.0</td>\n",
              "      <td>12.0</td>\n",
              "      <td>98.50</td>\n",
              "      <td>221.0</td>\n",
              "    </tr>\n",
              "  </tbody>\n",
              "</table>\n",
              "</div>"
            ],
            "text/plain": [
              "           count        mean        std  min   25%    50%     75%    max\n",
              "continent                                                               \n",
              "AF          53.0   16.264151  38.846419  0.0   1.0    2.0   13.00  233.0\n",
              "AS          44.0    9.068182  21.667034  0.0   0.0    1.0    8.00  123.0\n",
              "EU          45.0  142.222222  97.421738  0.0  59.0  128.0  195.00  370.0\n",
              "OC          16.0   35.625000  64.555790  0.0   1.0    8.5   23.25  212.0\n",
              "SA          12.0   62.416667  88.620189  1.0   3.0   12.0   98.50  221.0"
            ]
          },
          "execution_count": 21,
          "metadata": {},
          "output_type": "execute_result"
        }
      ],
      "source": [
        "drinks.groupby('continent').wine_servings.describe()"
      ]
    },
    {
      "cell_type": "markdown",
      "metadata": {
        "id": "IsKq6rlfHgYD"
      },
      "source": [
        "### Step 6. 모든 column에 대해 continent별 각 음료간의 소비량의 평균을 구하세요"
      ]
    },
    {
      "cell_type": "code",
      "execution_count": 16,
      "metadata": {
        "id": "GQ2WpvnpHgYE",
        "outputId": "a63868e7-9ac0-4662-ccd8-6dc6485d2ab9"
      },
      "outputs": [
        {
          "name": "stderr",
          "output_type": "stream",
          "text": [
            "/var/folders/c2/h79928n92258kzkwtzbxjbj80000gn/T/ipykernel_53783/3142784364.py:1: FutureWarning: The default value of numeric_only in DataFrameGroupBy.mean is deprecated. In a future version, numeric_only will default to False. Either specify numeric_only or select only columns which should be valid for the function.\n",
            "  drinks.groupby(['continent']).mean()\n"
          ]
        },
        {
          "data": {
            "text/html": [
              "<div>\n",
              "<style scoped>\n",
              "    .dataframe tbody tr th:only-of-type {\n",
              "        vertical-align: middle;\n",
              "    }\n",
              "\n",
              "    .dataframe tbody tr th {\n",
              "        vertical-align: top;\n",
              "    }\n",
              "\n",
              "    .dataframe thead th {\n",
              "        text-align: right;\n",
              "    }\n",
              "</style>\n",
              "<table border=\"1\" class=\"dataframe\">\n",
              "  <thead>\n",
              "    <tr style=\"text-align: right;\">\n",
              "      <th></th>\n",
              "      <th>beer_servings</th>\n",
              "      <th>spirit_servings</th>\n",
              "      <th>wine_servings</th>\n",
              "      <th>total_litres_of_pure_alcohol</th>\n",
              "    </tr>\n",
              "    <tr>\n",
              "      <th>continent</th>\n",
              "      <th></th>\n",
              "      <th></th>\n",
              "      <th></th>\n",
              "      <th></th>\n",
              "    </tr>\n",
              "  </thead>\n",
              "  <tbody>\n",
              "    <tr>\n",
              "      <th>AF</th>\n",
              "      <td>61.471698</td>\n",
              "      <td>16.339623</td>\n",
              "      <td>16.264151</td>\n",
              "      <td>3.007547</td>\n",
              "    </tr>\n",
              "    <tr>\n",
              "      <th>AS</th>\n",
              "      <td>37.045455</td>\n",
              "      <td>60.840909</td>\n",
              "      <td>9.068182</td>\n",
              "      <td>2.170455</td>\n",
              "    </tr>\n",
              "    <tr>\n",
              "      <th>EU</th>\n",
              "      <td>193.777778</td>\n",
              "      <td>132.555556</td>\n",
              "      <td>142.222222</td>\n",
              "      <td>8.617778</td>\n",
              "    </tr>\n",
              "    <tr>\n",
              "      <th>OC</th>\n",
              "      <td>89.687500</td>\n",
              "      <td>58.437500</td>\n",
              "      <td>35.625000</td>\n",
              "      <td>3.381250</td>\n",
              "    </tr>\n",
              "    <tr>\n",
              "      <th>SA</th>\n",
              "      <td>175.083333</td>\n",
              "      <td>114.750000</td>\n",
              "      <td>62.416667</td>\n",
              "      <td>6.308333</td>\n",
              "    </tr>\n",
              "  </tbody>\n",
              "</table>\n",
              "</div>"
            ],
            "text/plain": [
              "           beer_servings  spirit_servings  wine_servings  \\\n",
              "continent                                                  \n",
              "AF             61.471698        16.339623      16.264151   \n",
              "AS             37.045455        60.840909       9.068182   \n",
              "EU            193.777778       132.555556     142.222222   \n",
              "OC             89.687500        58.437500      35.625000   \n",
              "SA            175.083333       114.750000      62.416667   \n",
              "\n",
              "           total_litres_of_pure_alcohol  \n",
              "continent                                \n",
              "AF                             3.007547  \n",
              "AS                             2.170455  \n",
              "EU                             8.617778  \n",
              "OC                             3.381250  \n",
              "SA                             6.308333  "
            ]
          },
          "execution_count": 16,
          "metadata": {},
          "output_type": "execute_result"
        }
      ],
      "source": [
        "drinks.groupby(['continent']).mean()"
      ]
    },
    {
      "cell_type": "markdown",
      "metadata": {
        "id": "t5IOV9GcHgYE"
      },
      "source": [
        "### Step 7. 모든 column에 대해 continent별 각 음료간의 소비량의 중간값을 구하세요"
      ]
    },
    {
      "cell_type": "code",
      "execution_count": 17,
      "metadata": {
        "id": "DGg3T-3PHgYE",
        "outputId": "33f19746-e4c3-45f5-f493-cdcbf3d4d8df"
      },
      "outputs": [
        {
          "name": "stderr",
          "output_type": "stream",
          "text": [
            "/var/folders/c2/h79928n92258kzkwtzbxjbj80000gn/T/ipykernel_53783/1852978342.py:1: FutureWarning: The default value of numeric_only in DataFrameGroupBy.median is deprecated. In a future version, numeric_only will default to False. Either specify numeric_only or select only columns which should be valid for the function.\n",
            "  drinks.groupby(['continent']).median()\n"
          ]
        },
        {
          "data": {
            "text/html": [
              "<div>\n",
              "<style scoped>\n",
              "    .dataframe tbody tr th:only-of-type {\n",
              "        vertical-align: middle;\n",
              "    }\n",
              "\n",
              "    .dataframe tbody tr th {\n",
              "        vertical-align: top;\n",
              "    }\n",
              "\n",
              "    .dataframe thead th {\n",
              "        text-align: right;\n",
              "    }\n",
              "</style>\n",
              "<table border=\"1\" class=\"dataframe\">\n",
              "  <thead>\n",
              "    <tr style=\"text-align: right;\">\n",
              "      <th></th>\n",
              "      <th>beer_servings</th>\n",
              "      <th>spirit_servings</th>\n",
              "      <th>wine_servings</th>\n",
              "      <th>total_litres_of_pure_alcohol</th>\n",
              "    </tr>\n",
              "    <tr>\n",
              "      <th>continent</th>\n",
              "      <th></th>\n",
              "      <th></th>\n",
              "      <th></th>\n",
              "      <th></th>\n",
              "    </tr>\n",
              "  </thead>\n",
              "  <tbody>\n",
              "    <tr>\n",
              "      <th>AF</th>\n",
              "      <td>32.0</td>\n",
              "      <td>3.0</td>\n",
              "      <td>2.0</td>\n",
              "      <td>2.30</td>\n",
              "    </tr>\n",
              "    <tr>\n",
              "      <th>AS</th>\n",
              "      <td>17.5</td>\n",
              "      <td>16.0</td>\n",
              "      <td>1.0</td>\n",
              "      <td>1.20</td>\n",
              "    </tr>\n",
              "    <tr>\n",
              "      <th>EU</th>\n",
              "      <td>219.0</td>\n",
              "      <td>122.0</td>\n",
              "      <td>128.0</td>\n",
              "      <td>10.00</td>\n",
              "    </tr>\n",
              "    <tr>\n",
              "      <th>OC</th>\n",
              "      <td>52.5</td>\n",
              "      <td>37.0</td>\n",
              "      <td>8.5</td>\n",
              "      <td>1.75</td>\n",
              "    </tr>\n",
              "    <tr>\n",
              "      <th>SA</th>\n",
              "      <td>162.5</td>\n",
              "      <td>108.5</td>\n",
              "      <td>12.0</td>\n",
              "      <td>6.85</td>\n",
              "    </tr>\n",
              "  </tbody>\n",
              "</table>\n",
              "</div>"
            ],
            "text/plain": [
              "           beer_servings  spirit_servings  wine_servings  \\\n",
              "continent                                                  \n",
              "AF                  32.0              3.0            2.0   \n",
              "AS                  17.5             16.0            1.0   \n",
              "EU                 219.0            122.0          128.0   \n",
              "OC                  52.5             37.0            8.5   \n",
              "SA                 162.5            108.5           12.0   \n",
              "\n",
              "           total_litres_of_pure_alcohol  \n",
              "continent                                \n",
              "AF                                 2.30  \n",
              "AS                                 1.20  \n",
              "EU                                10.00  \n",
              "OC                                 1.75  \n",
              "SA                                 6.85  "
            ]
          },
          "execution_count": 17,
          "metadata": {},
          "output_type": "execute_result"
        }
      ],
      "source": [
        "drinks.groupby(['continent']).median()"
      ]
    },
    {
      "cell_type": "markdown",
      "metadata": {
        "id": "PDMhdjvzHgYF"
      },
      "source": [
        "### Step 8. spirit 소비량에 대한 평균, 최소, 최대 값을 구하세요"
      ]
    },
    {
      "cell_type": "code",
      "execution_count": 23,
      "metadata": {
        "id": "uU7hgrgYHgYF",
        "outputId": "698f16fa-9649-4407-bde1-5a584a109261"
      },
      "outputs": [
        {
          "data": {
            "text/html": [
              "<div>\n",
              "<style scoped>\n",
              "    .dataframe tbody tr th:only-of-type {\n",
              "        vertical-align: middle;\n",
              "    }\n",
              "\n",
              "    .dataframe tbody tr th {\n",
              "        vertical-align: top;\n",
              "    }\n",
              "\n",
              "    .dataframe thead th {\n",
              "        text-align: right;\n",
              "    }\n",
              "</style>\n",
              "<table border=\"1\" class=\"dataframe\">\n",
              "  <thead>\n",
              "    <tr style=\"text-align: right;\">\n",
              "      <th></th>\n",
              "      <th>mean</th>\n",
              "      <th>min</th>\n",
              "      <th>max</th>\n",
              "    </tr>\n",
              "    <tr>\n",
              "      <th>continent</th>\n",
              "      <th></th>\n",
              "      <th></th>\n",
              "      <th></th>\n",
              "    </tr>\n",
              "  </thead>\n",
              "  <tbody>\n",
              "    <tr>\n",
              "      <th>AF</th>\n",
              "      <td>16.339623</td>\n",
              "      <td>0.0</td>\n",
              "      <td>152.0</td>\n",
              "    </tr>\n",
              "    <tr>\n",
              "      <th>AS</th>\n",
              "      <td>60.840909</td>\n",
              "      <td>0.0</td>\n",
              "      <td>326.0</td>\n",
              "    </tr>\n",
              "    <tr>\n",
              "      <th>EU</th>\n",
              "      <td>132.555556</td>\n",
              "      <td>0.0</td>\n",
              "      <td>373.0</td>\n",
              "    </tr>\n",
              "    <tr>\n",
              "      <th>OC</th>\n",
              "      <td>58.437500</td>\n",
              "      <td>0.0</td>\n",
              "      <td>254.0</td>\n",
              "    </tr>\n",
              "    <tr>\n",
              "      <th>SA</th>\n",
              "      <td>114.750000</td>\n",
              "      <td>25.0</td>\n",
              "      <td>302.0</td>\n",
              "    </tr>\n",
              "  </tbody>\n",
              "</table>\n",
              "</div>"
            ],
            "text/plain": [
              "                 mean   min    max\n",
              "continent                         \n",
              "AF          16.339623   0.0  152.0\n",
              "AS          60.840909   0.0  326.0\n",
              "EU         132.555556   0.0  373.0\n",
              "OC          58.437500   0.0  254.0\n",
              "SA         114.750000  25.0  302.0"
            ]
          },
          "execution_count": 23,
          "metadata": {},
          "output_type": "execute_result"
        }
      ],
      "source": [
        "conti_spirit = conti['spirit_servings']\n",
        "conti_spirit[[\"mean\",\"min\",\"max\"]]"
      ]
    },
    {
      "cell_type": "code",
      "execution_count": 25,
      "metadata": {},
      "outputs": [
        {
          "data": {
            "text/html": [
              "<div>\n",
              "<style scoped>\n",
              "    .dataframe tbody tr th:only-of-type {\n",
              "        vertical-align: middle;\n",
              "    }\n",
              "\n",
              "    .dataframe tbody tr th {\n",
              "        vertical-align: top;\n",
              "    }\n",
              "\n",
              "    .dataframe thead th {\n",
              "        text-align: right;\n",
              "    }\n",
              "</style>\n",
              "<table border=\"1\" class=\"dataframe\">\n",
              "  <thead>\n",
              "    <tr style=\"text-align: right;\">\n",
              "      <th></th>\n",
              "      <th>mean</th>\n",
              "      <th>max</th>\n",
              "      <th>min</th>\n",
              "    </tr>\n",
              "    <tr>\n",
              "      <th>continent</th>\n",
              "      <th></th>\n",
              "      <th></th>\n",
              "      <th></th>\n",
              "    </tr>\n",
              "  </thead>\n",
              "  <tbody>\n",
              "    <tr>\n",
              "      <th>AF</th>\n",
              "      <td>16.339623</td>\n",
              "      <td>152</td>\n",
              "      <td>0</td>\n",
              "    </tr>\n",
              "    <tr>\n",
              "      <th>AS</th>\n",
              "      <td>60.840909</td>\n",
              "      <td>326</td>\n",
              "      <td>0</td>\n",
              "    </tr>\n",
              "    <tr>\n",
              "      <th>EU</th>\n",
              "      <td>132.555556</td>\n",
              "      <td>373</td>\n",
              "      <td>0</td>\n",
              "    </tr>\n",
              "    <tr>\n",
              "      <th>OC</th>\n",
              "      <td>58.437500</td>\n",
              "      <td>254</td>\n",
              "      <td>0</td>\n",
              "    </tr>\n",
              "    <tr>\n",
              "      <th>SA</th>\n",
              "      <td>114.750000</td>\n",
              "      <td>302</td>\n",
              "      <td>25</td>\n",
              "    </tr>\n",
              "  </tbody>\n",
              "</table>\n",
              "</div>"
            ],
            "text/plain": [
              "                 mean  max  min\n",
              "continent                      \n",
              "AF          16.339623  152    0\n",
              "AS          60.840909  326    0\n",
              "EU         132.555556  373    0\n",
              "OC          58.437500  254    0\n",
              "SA         114.750000  302   25"
            ]
          },
          "execution_count": 25,
          "metadata": {},
          "output_type": "execute_result"
        }
      ],
      "source": [
        "drinks.groupby(\"continent\").spirit_servings.agg(['mean','max','min'])"
      ]
    },
    {
      "cell_type": "code",
      "execution_count": 26,
      "metadata": {},
      "outputs": [
        {
          "name": "stdout",
          "output_type": "stream",
          "text": [
            "\u001b[0;31mSignature:\u001b[0m \u001b[0mpd\u001b[0m\u001b[0;34m.\u001b[0m\u001b[0mDataFrame\u001b[0m\u001b[0;34m.\u001b[0m\u001b[0magg\u001b[0m\u001b[0;34m(\u001b[0m\u001b[0mself\u001b[0m\u001b[0;34m,\u001b[0m \u001b[0mfunc\u001b[0m\u001b[0;34m=\u001b[0m\u001b[0;32mNone\u001b[0m\u001b[0;34m,\u001b[0m \u001b[0maxis\u001b[0m\u001b[0;34m:\u001b[0m \u001b[0;34m'Axis'\u001b[0m \u001b[0;34m=\u001b[0m \u001b[0;36m0\u001b[0m\u001b[0;34m,\u001b[0m \u001b[0;34m*\u001b[0m\u001b[0margs\u001b[0m\u001b[0;34m,\u001b[0m \u001b[0;34m**\u001b[0m\u001b[0mkwargs\u001b[0m\u001b[0;34m)\u001b[0m\u001b[0;34m\u001b[0m\u001b[0;34m\u001b[0m\u001b[0m\n",
            "\u001b[0;31mDocstring:\u001b[0m\n",
            "Aggregate using one or more operations over the specified axis.\n",
            "\n",
            "Parameters\n",
            "----------\n",
            "func : function, str, list or dict\n",
            "    Function to use for aggregating the data. If a function, must either\n",
            "    work when passed a DataFrame or when passed to DataFrame.apply.\n",
            "\n",
            "    Accepted combinations are:\n",
            "\n",
            "    - function\n",
            "    - string function name\n",
            "    - list of functions and/or function names, e.g. ``[np.sum, 'mean']``\n",
            "    - dict of axis labels -> functions, function names or list of such.\n",
            "axis : {0 or 'index', 1 or 'columns'}, default 0\n",
            "        If 0 or 'index': apply function to each column.\n",
            "        If 1 or 'columns': apply function to each row.\n",
            "*args\n",
            "    Positional arguments to pass to `func`.\n",
            "**kwargs\n",
            "    Keyword arguments to pass to `func`.\n",
            "\n",
            "Returns\n",
            "-------\n",
            "scalar, Series or DataFrame\n",
            "\n",
            "    The return can be:\n",
            "\n",
            "    * scalar : when Series.agg is called with single function\n",
            "    * Series : when DataFrame.agg is called with a single function\n",
            "    * DataFrame : when DataFrame.agg is called with several functions\n",
            "\n",
            "    Return scalar, Series or DataFrame.\n",
            "\n",
            "The aggregation operations are always performed over an axis, either the\n",
            "index (default) or the column axis. This behavior is different from\n",
            "`numpy` aggregation functions (`mean`, `median`, `prod`, `sum`, `std`,\n",
            "`var`), where the default is to compute the aggregation of the flattened\n",
            "array, e.g., ``numpy.mean(arr_2d)`` as opposed to\n",
            "``numpy.mean(arr_2d, axis=0)``.\n",
            "\n",
            "`agg` is an alias for `aggregate`. Use the alias.\n",
            "\n",
            "See Also\n",
            "--------\n",
            "DataFrame.apply : Perform any type of operations.\n",
            "DataFrame.transform : Perform transformation type operations.\n",
            "core.groupby.GroupBy : Perform operations over groups.\n",
            "core.resample.Resampler : Perform operations over resampled bins.\n",
            "core.window.Rolling : Perform operations over rolling window.\n",
            "core.window.Expanding : Perform operations over expanding window.\n",
            "core.window.ExponentialMovingWindow : Perform operation over exponential weighted\n",
            "    window.\n",
            "\n",
            "Notes\n",
            "-----\n",
            "`agg` is an alias for `aggregate`. Use the alias.\n",
            "\n",
            "Functions that mutate the passed object can produce unexpected\n",
            "behavior or errors and are not supported. See :ref:`gotchas.udf-mutation`\n",
            "for more details.\n",
            "\n",
            "A passed user-defined-function will be passed a Series for evaluation.\n",
            "\n",
            "Examples\n",
            "--------\n",
            ">>> df = pd.DataFrame([[1, 2, 3],\n",
            "...                    [4, 5, 6],\n",
            "...                    [7, 8, 9],\n",
            "...                    [np.nan, np.nan, np.nan]],\n",
            "...                   columns=['A', 'B', 'C'])\n",
            "\n",
            "Aggregate these functions over the rows.\n",
            "\n",
            ">>> df.agg(['sum', 'min'])\n",
            "        A     B     C\n",
            "sum  12.0  15.0  18.0\n",
            "min   1.0   2.0   3.0\n",
            "\n",
            "Different aggregations per column.\n",
            "\n",
            ">>> df.agg({'A' : ['sum', 'min'], 'B' : ['min', 'max']})\n",
            "        A    B\n",
            "sum  12.0  NaN\n",
            "min   1.0  2.0\n",
            "max   NaN  8.0\n",
            "\n",
            "Aggregate different functions over the columns and rename the index of the resulting\n",
            "DataFrame.\n",
            "\n",
            ">>> df.agg(x=('A', max), y=('B', 'min'), z=('C', np.mean))\n",
            "     A    B    C\n",
            "x  7.0  NaN  NaN\n",
            "y  NaN  2.0  NaN\n",
            "z  NaN  NaN  6.0\n",
            "\n",
            "Aggregate over the columns.\n",
            "\n",
            ">>> df.agg(\"mean\", axis=\"columns\")\n",
            "0    2.0\n",
            "1    5.0\n",
            "2    8.0\n",
            "3    NaN\n",
            "dtype: float64\n",
            "\u001b[0;31mFile:\u001b[0m      ~/Desktop/lab/pandas/lib/python3.9/site-packages/pandas/core/frame.py\n",
            "\u001b[0;31mType:\u001b[0m      function\n"
          ]
        }
      ],
      "source": [
        "pd.DataFrame.agg?"
      ]
    },
    {
      "cell_type": "code",
      "execution_count": null,
      "metadata": {},
      "outputs": [],
      "source": []
    }
  ],
  "metadata": {
    "colab": {
      "provenance": []
    },
    "kernelspec": {
      "display_name": "Python 3.9.6 ('pandas': venv)",
      "language": "python",
      "name": "python3"
    },
    "language_info": {
      "codemirror_mode": {
        "name": "ipython",
        "version": 3
      },
      "file_extension": ".py",
      "mimetype": "text/x-python",
      "name": "python",
      "nbconvert_exporter": "python",
      "pygments_lexer": "ipython3",
      "version": "3.9.6"
    },
    "toc": {
      "base_numbering": 1,
      "nav_menu": {},
      "number_sections": true,
      "sideBar": true,
      "skip_h1_title": false,
      "title_cell": "Table of Contents",
      "title_sidebar": "Contents",
      "toc_cell": false,
      "toc_position": {},
      "toc_section_display": true,
      "toc_window_display": false
    },
    "vscode": {
      "interpreter": {
        "hash": "30b57c670695fd04d167e224a77b6b973b5a099f909d2a2bd2114708a12cf819"
      }
    }
  },
  "nbformat": 4,
  "nbformat_minor": 0
}
