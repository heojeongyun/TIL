{
  "cells": [
    {
      "cell_type": "markdown",
      "metadata": {
        "id": "6X1i_bAELuc5"
      },
      "source": [
        "## Agenda\n",
        "- 합, 누적합\n",
        "- 상관관계, 공분산\n",
        "- 중복값 처리"
      ]
    },
    {
      "cell_type": "markdown",
      "metadata": {
        "id": "d7JAi4lnLuc7"
      },
      "source": [
        "## 기본 설정"
      ]
    },
    {
      "cell_type": "code",
      "execution_count": 1,
      "metadata": {
        "id": "xHywskbSLuc9"
      },
      "outputs": [],
      "source": [
        "import pandas as pd\n",
        "import numpy as np"
      ]
    },
    {
      "cell_type": "markdown",
      "metadata": {
        "id": "MiPBxb5ZLuc_"
      },
      "source": [
        "## 1.3 기초 통계 함수"
      ]
    },
    {
      "cell_type": "markdown",
      "metadata": {
        "id": "aX-raCr5LudA"
      },
      "source": [
        "* `sum()`\n",
        "* `mean()`\n",
        "* `std()`\n",
        "* `idxmax()`/`idxmin()`\n",
        "* `cumsum()`\n",
        "* `describe()`"
      ]
    },
    {
      "cell_type": "markdown",
      "metadata": {
        "id": "Qkd8o-oyLudA"
      },
      "source": [
        "- 기본적으로 열 단위로 작동하며\n",
        "- 결측치는 행 또는 열의 모든 값이 결측치가 아니라면 기본적으로 무시되어 계산되지 않는다.\n",
        "- 행 단위로 작동하게 하려면 축을 `axis=1` 또는 `axis='columns`로 지정\n",
        "- 결측치를 무시하지 않으려면 `skipna=False`로 지정(무시하면 계산 결과가 나타나지 않는다.)"
      ]
    },
    {
      "cell_type": "code",
      "execution_count": 15,
      "metadata": {
        "id": "aIRLmTwvLudA"
      },
      "outputs": [
        {
          "data": {
            "text/html": [
              "<div>\n",
              "<style scoped>\n",
              "    .dataframe tbody tr th:only-of-type {\n",
              "        vertical-align: middle;\n",
              "    }\n",
              "\n",
              "    .dataframe tbody tr th {\n",
              "        vertical-align: top;\n",
              "    }\n",
              "\n",
              "    .dataframe thead th {\n",
              "        text-align: right;\n",
              "    }\n",
              "</style>\n",
              "<table border=\"1\" class=\"dataframe\">\n",
              "  <thead>\n",
              "    <tr style=\"text-align: right;\">\n",
              "      <th></th>\n",
              "      <th>one</th>\n",
              "      <th>two</th>\n",
              "    </tr>\n",
              "  </thead>\n",
              "  <tbody>\n",
              "    <tr>\n",
              "      <th>a</th>\n",
              "      <td>1.40</td>\n",
              "      <td>NaN</td>\n",
              "    </tr>\n",
              "    <tr>\n",
              "      <th>b</th>\n",
              "      <td>7.10</td>\n",
              "      <td>-4.5</td>\n",
              "    </tr>\n",
              "    <tr>\n",
              "      <th>c</th>\n",
              "      <td>NaN</td>\n",
              "      <td>NaN</td>\n",
              "    </tr>\n",
              "    <tr>\n",
              "      <th>d</th>\n",
              "      <td>0.75</td>\n",
              "      <td>-1.3</td>\n",
              "    </tr>\n",
              "  </tbody>\n",
              "</table>\n",
              "</div>"
            ],
            "text/plain": [
              "    one  two\n",
              "a  1.40  NaN\n",
              "b  7.10 -4.5\n",
              "c   NaN  NaN\n",
              "d  0.75 -1.3"
            ]
          },
          "execution_count": 15,
          "metadata": {},
          "output_type": "execute_result"
        }
      ],
      "source": [
        "df = pd.DataFrame([[1.4, np.nan], [7.1, -4.5],\n",
        "                   [np.nan, np.nan], [0.75, -1.3]],\n",
        "                  index=['a', 'b', 'c', 'd'],\n",
        "                  columns=['one', 'two'])\n",
        "\n",
        "df"
      ]
    },
    {
      "cell_type": "markdown",
      "metadata": {
        "id": "iorXmUZzLudB"
      },
      "source": [
        "* `sum()` 메서드: 행/열 단위 합 계산"
      ]
    },
    {
      "cell_type": "code",
      "execution_count": 3,
      "metadata": {
        "id": "mv8f21nwoztm"
      },
      "outputs": [
        {
          "data": {
            "text/plain": [
              "one    9.25\n",
              "two   -5.80\n",
              "dtype: float64"
            ]
          },
          "execution_count": 3,
          "metadata": {},
          "output_type": "execute_result"
        }
      ],
      "source": [
        "df.sum()"
      ]
    },
    {
      "cell_type": "code",
      "execution_count": 4,
      "metadata": {},
      "outputs": [
        {
          "data": {
            "text/plain": [
              "one   NaN\n",
              "two   NaN\n",
              "dtype: float64"
            ]
          },
          "execution_count": 4,
          "metadata": {},
          "output_type": "execute_result"
        }
      ],
      "source": [
        "df.sum(skipna=False)"
      ]
    },
    {
      "cell_type": "code",
      "execution_count": 6,
      "metadata": {},
      "outputs": [
        {
          "data": {
            "text/plain": [
              "a    1.40\n",
              "b    2.60\n",
              "c    0.00\n",
              "d   -0.55\n",
              "dtype: float64"
            ]
          },
          "execution_count": 6,
          "metadata": {},
          "output_type": "execute_result"
        }
      ],
      "source": [
        "df.sum(axis=1)"
      ]
    },
    {
      "cell_type": "code",
      "execution_count": 7,
      "metadata": {},
      "outputs": [
        {
          "data": {
            "text/plain": [
              "9.25"
            ]
          },
          "execution_count": 7,
          "metadata": {},
          "output_type": "execute_result"
        }
      ],
      "source": [
        "df.one.sum()"
      ]
    },
    {
      "cell_type": "markdown",
      "metadata": {
        "id": "3nh70OH9LudD"
      },
      "source": [
        "* `mean()` 메서드: 평균값 계산"
      ]
    },
    {
      "cell_type": "code",
      "execution_count": 9,
      "metadata": {
        "id": "qg63YJn6LudD"
      },
      "outputs": [
        {
          "data": {
            "text/plain": [
              "one    3.083333\n",
              "two   -2.900000\n",
              "dtype: float64"
            ]
          },
          "execution_count": 9,
          "metadata": {},
          "output_type": "execute_result"
        }
      ],
      "source": [
        "df.mean()"
      ]
    },
    {
      "cell_type": "markdown",
      "metadata": {
        "id": "JG1JpXSULudF"
      },
      "source": [
        "* `std()` 메서드: 표준편차 계산"
      ]
    },
    {
      "cell_type": "code",
      "execution_count": 13,
      "metadata": {
        "id": "_e_4NwvNLudF"
      },
      "outputs": [
        {
          "data": {
            "text/plain": [
              "a         NaN\n",
              "b    8.202439\n",
              "c         NaN\n",
              "d    1.449569\n",
              "dtype: float64"
            ]
          },
          "execution_count": 13,
          "metadata": {},
          "output_type": "execute_result"
        }
      ],
      "source": [
        "df.std(axis=1)"
      ]
    },
    {
      "cell_type": "markdown",
      "metadata": {
        "id": "He3zpAbOLudG"
      },
      "source": [
        "* `idxmax()`/`idxmin()`: 최댓값/최솟값을 갖는 인덱스 확인"
      ]
    },
    {
      "cell_type": "code",
      "execution_count": 16,
      "metadata": {
        "id": "b2KXKV9BLudG"
      },
      "outputs": [
        {
          "data": {
            "text/plain": [
              "a    one\n",
              "b    one\n",
              "c    NaN\n",
              "d    one\n",
              "dtype: object"
            ]
          },
          "execution_count": 16,
          "metadata": {},
          "output_type": "execute_result"
        }
      ],
      "source": [
        "df.idxmax(axis=1)"
      ]
    },
    {
      "cell_type": "code",
      "execution_count": 17,
      "metadata": {},
      "outputs": [
        {
          "data": {
            "text/plain": [
              "a    one\n",
              "b    two\n",
              "c    NaN\n",
              "d    two\n",
              "dtype: object"
            ]
          },
          "execution_count": 17,
          "metadata": {},
          "output_type": "execute_result"
        }
      ],
      "source": [
        "df.idxmin(axis=1)"
      ]
    },
    {
      "cell_type": "markdown",
      "metadata": {
        "id": "oH5fzlazLudH"
      },
      "source": [
        "* `cumsum()`: 누적 합 계산"
      ]
    },
    {
      "cell_type": "code",
      "execution_count": 18,
      "metadata": {
        "id": "MF1Raf8SLudH"
      },
      "outputs": [
        {
          "data": {
            "text/html": [
              "<div>\n",
              "<style scoped>\n",
              "    .dataframe tbody tr th:only-of-type {\n",
              "        vertical-align: middle;\n",
              "    }\n",
              "\n",
              "    .dataframe tbody tr th {\n",
              "        vertical-align: top;\n",
              "    }\n",
              "\n",
              "    .dataframe thead th {\n",
              "        text-align: right;\n",
              "    }\n",
              "</style>\n",
              "<table border=\"1\" class=\"dataframe\">\n",
              "  <thead>\n",
              "    <tr style=\"text-align: right;\">\n",
              "      <th></th>\n",
              "      <th>one</th>\n",
              "      <th>two</th>\n",
              "    </tr>\n",
              "  </thead>\n",
              "  <tbody>\n",
              "    <tr>\n",
              "      <th>a</th>\n",
              "      <td>1.40</td>\n",
              "      <td>NaN</td>\n",
              "    </tr>\n",
              "    <tr>\n",
              "      <th>b</th>\n",
              "      <td>8.50</td>\n",
              "      <td>-4.5</td>\n",
              "    </tr>\n",
              "    <tr>\n",
              "      <th>c</th>\n",
              "      <td>NaN</td>\n",
              "      <td>NaN</td>\n",
              "    </tr>\n",
              "    <tr>\n",
              "      <th>d</th>\n",
              "      <td>9.25</td>\n",
              "      <td>-5.8</td>\n",
              "    </tr>\n",
              "  </tbody>\n",
              "</table>\n",
              "</div>"
            ],
            "text/plain": [
              "    one  two\n",
              "a  1.40  NaN\n",
              "b  8.50 -4.5\n",
              "c   NaN  NaN\n",
              "d  9.25 -5.8"
            ]
          },
          "execution_count": 18,
          "metadata": {},
          "output_type": "execute_result"
        }
      ],
      "source": [
        "df.cumsum()"
      ]
    },
    {
      "cell_type": "markdown",
      "metadata": {
        "id": "dUTEvitILudH"
      },
      "source": [
        "* `describe()`: 요약 통계 보여주기"
      ]
    },
    {
      "cell_type": "code",
      "execution_count": 19,
      "metadata": {},
      "outputs": [
        {
          "data": {
            "text/html": [
              "<div>\n",
              "<style scoped>\n",
              "    .dataframe tbody tr th:only-of-type {\n",
              "        vertical-align: middle;\n",
              "    }\n",
              "\n",
              "    .dataframe tbody tr th {\n",
              "        vertical-align: top;\n",
              "    }\n",
              "\n",
              "    .dataframe thead th {\n",
              "        text-align: right;\n",
              "    }\n",
              "</style>\n",
              "<table border=\"1\" class=\"dataframe\">\n",
              "  <thead>\n",
              "    <tr style=\"text-align: right;\">\n",
              "      <th></th>\n",
              "      <th>one</th>\n",
              "      <th>two</th>\n",
              "    </tr>\n",
              "  </thead>\n",
              "  <tbody>\n",
              "    <tr>\n",
              "      <th>count</th>\n",
              "      <td>3.000000</td>\n",
              "      <td>2.000000</td>\n",
              "    </tr>\n",
              "    <tr>\n",
              "      <th>mean</th>\n",
              "      <td>3.083333</td>\n",
              "      <td>-2.900000</td>\n",
              "    </tr>\n",
              "    <tr>\n",
              "      <th>std</th>\n",
              "      <td>3.493685</td>\n",
              "      <td>2.262742</td>\n",
              "    </tr>\n",
              "    <tr>\n",
              "      <th>min</th>\n",
              "      <td>0.750000</td>\n",
              "      <td>-4.500000</td>\n",
              "    </tr>\n",
              "    <tr>\n",
              "      <th>25%</th>\n",
              "      <td>1.075000</td>\n",
              "      <td>-3.700000</td>\n",
              "    </tr>\n",
              "    <tr>\n",
              "      <th>50%</th>\n",
              "      <td>1.400000</td>\n",
              "      <td>-2.900000</td>\n",
              "    </tr>\n",
              "    <tr>\n",
              "      <th>75%</th>\n",
              "      <td>4.250000</td>\n",
              "      <td>-2.100000</td>\n",
              "    </tr>\n",
              "    <tr>\n",
              "      <th>max</th>\n",
              "      <td>7.100000</td>\n",
              "      <td>-1.300000</td>\n",
              "    </tr>\n",
              "  </tbody>\n",
              "</table>\n",
              "</div>"
            ],
            "text/plain": [
              "            one       two\n",
              "count  3.000000  2.000000\n",
              "mean   3.083333 -2.900000\n",
              "std    3.493685  2.262742\n",
              "min    0.750000 -4.500000\n",
              "25%    1.075000 -3.700000\n",
              "50%    1.400000 -2.900000\n",
              "75%    4.250000 -2.100000\n",
              "max    7.100000 -1.300000"
            ]
          },
          "execution_count": 19,
          "metadata": {},
          "output_type": "execute_result"
        }
      ],
      "source": [
        "df.describe()"
      ]
    },
    {
      "cell_type": "markdown",
      "metadata": {
        "id": "H3EymhzTLudH"
      },
      "source": [
        "수치형 데이터의 경우 평균값, 표준편차, 사분위수 등의 통계 정보를 요약해서 보여준다."
      ]
    },
    {
      "cell_type": "markdown",
      "metadata": {
        "id": "qAJqKhzRLudI"
      },
      "source": [
        "수치형 데이터가 아닐 경우 다른 요약 통계를 보여준다."
      ]
    },
    {
      "cell_type": "code",
      "execution_count": 20,
      "metadata": {
        "id": "IRGTu9RXLudI"
      },
      "outputs": [],
      "source": [
        "ser = pd.Series(['a', 'a', 'b', 'c'] * 2)"
      ]
    },
    {
      "cell_type": "code",
      "execution_count": 21,
      "metadata": {
        "id": "bnApyfhALudI"
      },
      "outputs": [
        {
          "data": {
            "text/plain": [
              "count     8\n",
              "unique    3\n",
              "top       a\n",
              "freq      4\n",
              "dtype: object"
            ]
          },
          "execution_count": 21,
          "metadata": {},
          "output_type": "execute_result"
        }
      ],
      "source": [
        "ser.describe()"
      ]
    },
    {
      "cell_type": "markdown",
      "metadata": {
        "id": "pjWeoBKWLudJ"
      },
      "source": [
        "### 1.3.1 상관관계와 공분산"
      ]
    },
    {
      "cell_type": "markdown",
      "metadata": {
        "id": "OT0A6yOdLudJ"
      },
      "source": [
        "4 개 회사의 주가(price)와 거래량(volume)을 담고 있는 두 개의 데이터를 이용하여 상관계수와 공분산을 계산해보자.\n",
        "\n",
        "- pkl 파일: 판다스에서 제공하는 객체를 `to_pickle()` 메서드를 이용하여 \n",
        "    컴퓨터에 파일로 저장할 때 사용되는 바이너리 파일.\n",
        "- `read_pickle()`: 저장된 pkl 파일을 파이썬으로 불러오는 함수"
      ]
    },
    {
      "cell_type": "markdown",
      "metadata": {
        "id": "fXn2LjNWLudJ"
      },
      "source": [
        "아래 코드는 일별 주가 데이터를 불러온다.\n",
        "2010년 1월 4일부터 2016년 10월 21일까지의 데이터 1714개를 담고 있다."
      ]
    },
    {
      "cell_type": "code",
      "execution_count": 24,
      "metadata": {
        "id": "Gt4qvq1MLudJ",
        "outputId": "34e524f8-aaf7-4671-f49e-9be158be716c"
      },
      "outputs": [
        {
          "data": {
            "text/html": [
              "<div>\n",
              "<style scoped>\n",
              "    .dataframe tbody tr th:only-of-type {\n",
              "        vertical-align: middle;\n",
              "    }\n",
              "\n",
              "    .dataframe tbody tr th {\n",
              "        vertical-align: top;\n",
              "    }\n",
              "\n",
              "    .dataframe thead th {\n",
              "        text-align: right;\n",
              "    }\n",
              "</style>\n",
              "<table border=\"1\" class=\"dataframe\">\n",
              "  <thead>\n",
              "    <tr style=\"text-align: right;\">\n",
              "      <th></th>\n",
              "      <th>AAPL</th>\n",
              "      <th>GOOG</th>\n",
              "      <th>IBM</th>\n",
              "      <th>MSFT</th>\n",
              "    </tr>\n",
              "    <tr>\n",
              "      <th>Date</th>\n",
              "      <th></th>\n",
              "      <th></th>\n",
              "      <th></th>\n",
              "      <th></th>\n",
              "    </tr>\n",
              "  </thead>\n",
              "  <tbody>\n",
              "    <tr>\n",
              "      <th>2010-01-04</th>\n",
              "      <td>27.990226</td>\n",
              "      <td>313.062468</td>\n",
              "      <td>113.304536</td>\n",
              "      <td>25.884104</td>\n",
              "    </tr>\n",
              "    <tr>\n",
              "      <th>2010-01-05</th>\n",
              "      <td>28.038618</td>\n",
              "      <td>311.683844</td>\n",
              "      <td>111.935822</td>\n",
              "      <td>25.892466</td>\n",
              "    </tr>\n",
              "    <tr>\n",
              "      <th>2010-01-06</th>\n",
              "      <td>27.592626</td>\n",
              "      <td>303.826685</td>\n",
              "      <td>111.208683</td>\n",
              "      <td>25.733566</td>\n",
              "    </tr>\n",
              "    <tr>\n",
              "      <th>2010-01-07</th>\n",
              "      <td>27.541619</td>\n",
              "      <td>296.753749</td>\n",
              "      <td>110.823732</td>\n",
              "      <td>25.465944</td>\n",
              "    </tr>\n",
              "    <tr>\n",
              "      <th>2010-01-08</th>\n",
              "      <td>27.724725</td>\n",
              "      <td>300.709808</td>\n",
              "      <td>111.935822</td>\n",
              "      <td>25.641571</td>\n",
              "    </tr>\n",
              "    <tr>\n",
              "      <th>...</th>\n",
              "      <td>...</td>\n",
              "      <td>...</td>\n",
              "      <td>...</td>\n",
              "      <td>...</td>\n",
              "    </tr>\n",
              "    <tr>\n",
              "      <th>2016-10-17</th>\n",
              "      <td>117.550003</td>\n",
              "      <td>779.960022</td>\n",
              "      <td>154.770004</td>\n",
              "      <td>57.220001</td>\n",
              "    </tr>\n",
              "    <tr>\n",
              "      <th>2016-10-18</th>\n",
              "      <td>117.470001</td>\n",
              "      <td>795.260010</td>\n",
              "      <td>150.720001</td>\n",
              "      <td>57.660000</td>\n",
              "    </tr>\n",
              "    <tr>\n",
              "      <th>2016-10-19</th>\n",
              "      <td>117.120003</td>\n",
              "      <td>801.500000</td>\n",
              "      <td>151.259995</td>\n",
              "      <td>57.529999</td>\n",
              "    </tr>\n",
              "    <tr>\n",
              "      <th>2016-10-20</th>\n",
              "      <td>117.059998</td>\n",
              "      <td>796.969971</td>\n",
              "      <td>151.520004</td>\n",
              "      <td>57.250000</td>\n",
              "    </tr>\n",
              "    <tr>\n",
              "      <th>2016-10-21</th>\n",
              "      <td>116.599998</td>\n",
              "      <td>799.369995</td>\n",
              "      <td>149.630005</td>\n",
              "      <td>59.660000</td>\n",
              "    </tr>\n",
              "  </tbody>\n",
              "</table>\n",
              "<p>1714 rows × 4 columns</p>\n",
              "</div>"
            ],
            "text/plain": [
              "                  AAPL        GOOG         IBM       MSFT\n",
              "Date                                                     \n",
              "2010-01-04   27.990226  313.062468  113.304536  25.884104\n",
              "2010-01-05   28.038618  311.683844  111.935822  25.892466\n",
              "2010-01-06   27.592626  303.826685  111.208683  25.733566\n",
              "2010-01-07   27.541619  296.753749  110.823732  25.465944\n",
              "2010-01-08   27.724725  300.709808  111.935822  25.641571\n",
              "...                ...         ...         ...        ...\n",
              "2016-10-17  117.550003  779.960022  154.770004  57.220001\n",
              "2016-10-18  117.470001  795.260010  150.720001  57.660000\n",
              "2016-10-19  117.120003  801.500000  151.259995  57.529999\n",
              "2016-10-20  117.059998  796.969971  151.520004  57.250000\n",
              "2016-10-21  116.599998  799.369995  149.630005  59.660000\n",
              "\n",
              "[1714 rows x 4 columns]"
            ]
          },
          "execution_count": 24,
          "metadata": {},
          "output_type": "execute_result"
        }
      ],
      "source": [
        "price = pd.read_pickle('./yahoo_price.pkl')\n",
        "price"
      ]
    },
    {
      "cell_type": "markdown",
      "metadata": {
        "id": "PtoO8b6rLudJ"
      },
      "source": [
        "아래 코드는 동일 회사, 동일 날짜의 1일 거래량(volume) 담고 있는 데이터를 불러온다."
      ]
    },
    {
      "cell_type": "code",
      "execution_count": 26,
      "metadata": {
        "id": "MOMk_MhkLudK",
        "outputId": "40c10619-bffc-4019-b25e-3d700e497859"
      },
      "outputs": [
        {
          "data": {
            "text/html": [
              "<div>\n",
              "<style scoped>\n",
              "    .dataframe tbody tr th:only-of-type {\n",
              "        vertical-align: middle;\n",
              "    }\n",
              "\n",
              "    .dataframe tbody tr th {\n",
              "        vertical-align: top;\n",
              "    }\n",
              "\n",
              "    .dataframe thead th {\n",
              "        text-align: right;\n",
              "    }\n",
              "</style>\n",
              "<table border=\"1\" class=\"dataframe\">\n",
              "  <thead>\n",
              "    <tr style=\"text-align: right;\">\n",
              "      <th></th>\n",
              "      <th>AAPL</th>\n",
              "      <th>GOOG</th>\n",
              "      <th>IBM</th>\n",
              "      <th>MSFT</th>\n",
              "    </tr>\n",
              "    <tr>\n",
              "      <th>Date</th>\n",
              "      <th></th>\n",
              "      <th></th>\n",
              "      <th></th>\n",
              "      <th></th>\n",
              "    </tr>\n",
              "  </thead>\n",
              "  <tbody>\n",
              "    <tr>\n",
              "      <th>2010-01-04</th>\n",
              "      <td>123432400</td>\n",
              "      <td>3927000</td>\n",
              "      <td>6155300</td>\n",
              "      <td>38409100</td>\n",
              "    </tr>\n",
              "    <tr>\n",
              "      <th>2010-01-05</th>\n",
              "      <td>150476200</td>\n",
              "      <td>6031900</td>\n",
              "      <td>6841400</td>\n",
              "      <td>49749600</td>\n",
              "    </tr>\n",
              "    <tr>\n",
              "      <th>2010-01-06</th>\n",
              "      <td>138040000</td>\n",
              "      <td>7987100</td>\n",
              "      <td>5605300</td>\n",
              "      <td>58182400</td>\n",
              "    </tr>\n",
              "    <tr>\n",
              "      <th>2010-01-07</th>\n",
              "      <td>119282800</td>\n",
              "      <td>12876600</td>\n",
              "      <td>5840600</td>\n",
              "      <td>50559700</td>\n",
              "    </tr>\n",
              "    <tr>\n",
              "      <th>2010-01-08</th>\n",
              "      <td>111902700</td>\n",
              "      <td>9483900</td>\n",
              "      <td>4197200</td>\n",
              "      <td>51197400</td>\n",
              "    </tr>\n",
              "    <tr>\n",
              "      <th>...</th>\n",
              "      <td>...</td>\n",
              "      <td>...</td>\n",
              "      <td>...</td>\n",
              "      <td>...</td>\n",
              "    </tr>\n",
              "    <tr>\n",
              "      <th>2016-10-17</th>\n",
              "      <td>23624900</td>\n",
              "      <td>1089500</td>\n",
              "      <td>5890400</td>\n",
              "      <td>23830000</td>\n",
              "    </tr>\n",
              "    <tr>\n",
              "      <th>2016-10-18</th>\n",
              "      <td>24553500</td>\n",
              "      <td>1995600</td>\n",
              "      <td>12770600</td>\n",
              "      <td>19149500</td>\n",
              "    </tr>\n",
              "    <tr>\n",
              "      <th>2016-10-19</th>\n",
              "      <td>20034600</td>\n",
              "      <td>116600</td>\n",
              "      <td>4632900</td>\n",
              "      <td>22878400</td>\n",
              "    </tr>\n",
              "    <tr>\n",
              "      <th>2016-10-20</th>\n",
              "      <td>24125800</td>\n",
              "      <td>1734200</td>\n",
              "      <td>4023100</td>\n",
              "      <td>49455600</td>\n",
              "    </tr>\n",
              "    <tr>\n",
              "      <th>2016-10-21</th>\n",
              "      <td>22384800</td>\n",
              "      <td>1260500</td>\n",
              "      <td>4401900</td>\n",
              "      <td>79974200</td>\n",
              "    </tr>\n",
              "  </tbody>\n",
              "</table>\n",
              "<p>1714 rows × 4 columns</p>\n",
              "</div>"
            ],
            "text/plain": [
              "                 AAPL      GOOG       IBM      MSFT\n",
              "Date                                               \n",
              "2010-01-04  123432400   3927000   6155300  38409100\n",
              "2010-01-05  150476200   6031900   6841400  49749600\n",
              "2010-01-06  138040000   7987100   5605300  58182400\n",
              "2010-01-07  119282800  12876600   5840600  50559700\n",
              "2010-01-08  111902700   9483900   4197200  51197400\n",
              "...               ...       ...       ...       ...\n",
              "2016-10-17   23624900   1089500   5890400  23830000\n",
              "2016-10-18   24553500   1995600  12770600  19149500\n",
              "2016-10-19   20034600    116600   4632900  22878400\n",
              "2016-10-20   24125800   1734200   4023100  49455600\n",
              "2016-10-21   22384800   1260500   4401900  79974200\n",
              "\n",
              "[1714 rows x 4 columns]"
            ]
          },
          "execution_count": 26,
          "metadata": {},
          "output_type": "execute_result"
        }
      ],
      "source": [
        "volume = pd.read_pickle('./yahoo_volume.pkl')\n",
        "volume"
      ]
    },
    {
      "cell_type": "markdown",
      "metadata": {
        "id": "noHV-UtwLudK"
      },
      "source": [
        "주가의 일단위 변화율을 알아보기 위해 퍼센트 변화율을 확인해보자.\n",
        "\n",
        "__참고:__ 증권분야에서 return은 이익율을 의미한다."
      ]
    },
    {
      "cell_type": "code",
      "execution_count": 27,
      "metadata": {
        "id": "-eDqjScLLudK",
        "outputId": "40543f4a-4b12-4177-9599-a49d6994b9c9"
      },
      "outputs": [
        {
          "data": {
            "text/html": [
              "<div>\n",
              "<style scoped>\n",
              "    .dataframe tbody tr th:only-of-type {\n",
              "        vertical-align: middle;\n",
              "    }\n",
              "\n",
              "    .dataframe tbody tr th {\n",
              "        vertical-align: top;\n",
              "    }\n",
              "\n",
              "    .dataframe thead th {\n",
              "        text-align: right;\n",
              "    }\n",
              "</style>\n",
              "<table border=\"1\" class=\"dataframe\">\n",
              "  <thead>\n",
              "    <tr style=\"text-align: right;\">\n",
              "      <th></th>\n",
              "      <th>AAPL</th>\n",
              "      <th>GOOG</th>\n",
              "      <th>IBM</th>\n",
              "      <th>MSFT</th>\n",
              "    </tr>\n",
              "    <tr>\n",
              "      <th>Date</th>\n",
              "      <th></th>\n",
              "      <th></th>\n",
              "      <th></th>\n",
              "      <th></th>\n",
              "    </tr>\n",
              "  </thead>\n",
              "  <tbody>\n",
              "    <tr>\n",
              "      <th>2016-10-17</th>\n",
              "      <td>-0.000680</td>\n",
              "      <td>0.001837</td>\n",
              "      <td>0.002072</td>\n",
              "      <td>-0.003483</td>\n",
              "    </tr>\n",
              "    <tr>\n",
              "      <th>2016-10-18</th>\n",
              "      <td>-0.000681</td>\n",
              "      <td>0.019616</td>\n",
              "      <td>-0.026168</td>\n",
              "      <td>0.007690</td>\n",
              "    </tr>\n",
              "    <tr>\n",
              "      <th>2016-10-19</th>\n",
              "      <td>-0.002979</td>\n",
              "      <td>0.007846</td>\n",
              "      <td>0.003583</td>\n",
              "      <td>-0.002255</td>\n",
              "    </tr>\n",
              "    <tr>\n",
              "      <th>2016-10-20</th>\n",
              "      <td>-0.000512</td>\n",
              "      <td>-0.005652</td>\n",
              "      <td>0.001719</td>\n",
              "      <td>-0.004867</td>\n",
              "    </tr>\n",
              "    <tr>\n",
              "      <th>2016-10-21</th>\n",
              "      <td>-0.003930</td>\n",
              "      <td>0.003011</td>\n",
              "      <td>-0.012474</td>\n",
              "      <td>0.042096</td>\n",
              "    </tr>\n",
              "  </tbody>\n",
              "</table>\n",
              "</div>"
            ],
            "text/plain": [
              "                AAPL      GOOG       IBM      MSFT\n",
              "Date                                              \n",
              "2016-10-17 -0.000680  0.001837  0.002072 -0.003483\n",
              "2016-10-18 -0.000681  0.019616 -0.026168  0.007690\n",
              "2016-10-19 -0.002979  0.007846  0.003583 -0.002255\n",
              "2016-10-20 -0.000512 -0.005652  0.001719 -0.004867\n",
              "2016-10-21 -0.003930  0.003011 -0.012474  0.042096"
            ]
          },
          "execution_count": 27,
          "metadata": {},
          "output_type": "execute_result"
        }
      ],
      "source": [
        "returns = price.pct_change()\n",
        "returns.tail()"
      ]
    },
    {
      "cell_type": "markdown",
      "metadata": {
        "id": "5ozLeVtuLudK"
      },
      "source": [
        "####  `corr()`/`cov()` 메서드"
      ]
    },
    {
      "cell_type": "markdown",
      "metadata": {
        "id": "IEG2ZIwvLudL"
      },
      "source": [
        "상관계수와 공분산 모두 두 확률변수 사이의 선형관계를 보여주며\n",
        "차이점은 다음과 같다.\n",
        "\n",
        "- 공분산: 두 확률변수 $X, Y$ 사이의 선형관계\n",
        "    - 양수/음수 여부에 따라 양 또는 음의 선형관계\n",
        "    - 절댓값이 클 수록 강한 선형관계를 갖고있다. \n",
        "    - 다만, 사용되는 확률변수의 척도(scale)에 많은 영향을 많이받아 정규화된 값인 상관계수를 주로 사용한다. \n",
        "\n",
        "$$\n",
        "\\begin{align*}\n",
        "Cov(X, Y) & = E((X-\\mu_X)(Y-\\mu_Y))\\\\[2ex]\n",
        "\\mu_X & = E(X) = \\dfrac{\\sum X}{n}\\\\[1.5ex]\n",
        "\\mu_Y & = E(Y) = \\dfrac{\\sum Y}{n}\n",
        "\\end{align*}\n",
        "$$\n",
        "\n",
        "- 상관계수: 두 확률변수 사이의 선형관계를 -1과 1 사이의 값으로 표현.\n",
        "    - 양수/음수 여부에 따라 양 또는 음의 선형관계\n",
        "    - 절댓값이 1에 가까울 수록 강한 선형관계\n",
        "$$\n",
        "\\begin{align*}\n",
        "\\rho & = \\frac{Cov(X, Y)}{\\sigma_X\\cdot \\sigma_Y}\\\\[2ex]\n",
        "\\sigma_X & = \\sqrt{Var(X)}\\\\[1.5ex]\n",
        "\\sigma_X & = \\sqrt{Var(X)}\\\\[1.5ex]\n",
        "Var(X) & = \\dfrac{\\sum (X-\\mu_X)^2}{n}\\\\[1.5ex]\n",
        "Var(Y) & = \\dfrac{\\sum (X-\\mu_Y)^2}{n}\n",
        "\\end{align*}\n",
        "$$    "
      ]
    },
    {
      "cell_type": "markdown",
      "metadata": {
        "id": "Hsqyci92LudL"
      },
      "source": [
        "'MSFT'와 'IBM' 사이의 상관계수"
      ]
    },
    {
      "cell_type": "code",
      "execution_count": 30,
      "metadata": {
        "id": "wUaYWycFLudL"
      },
      "outputs": [
        {
          "data": {
            "text/plain": [
              "0.49976361144151155"
            ]
          },
          "execution_count": 30,
          "metadata": {},
          "output_type": "execute_result"
        }
      ],
      "source": [
        "returns[\"MSFT\"].corr(returns[\"IBM\"])"
      ]
    },
    {
      "cell_type": "markdown",
      "metadata": {
        "id": "TwTQCxJ1LudL"
      },
      "source": [
        "'MSFT'와 'IBM' 사이의 공분산"
      ]
    },
    {
      "cell_type": "code",
      "execution_count": 31,
      "metadata": {
        "id": "-DM3qtvdLudL"
      },
      "outputs": [
        {
          "data": {
            "text/plain": [
              "8.870655479703546e-05"
            ]
          },
          "execution_count": 31,
          "metadata": {},
          "output_type": "execute_result"
        }
      ],
      "source": [
        "returns[\"MSFT\"].cov(returns[\"IBM\"])"
      ]
    },
    {
      "cell_type": "markdown",
      "metadata": {
        "id": "oNCGLFbrLudM"
      },
      "source": [
        "모든 회사들 간의 상관계수와 공분산"
      ]
    },
    {
      "cell_type": "code",
      "execution_count": 32,
      "metadata": {
        "id": "E2pJq2BFLudM"
      },
      "outputs": [
        {
          "data": {
            "text/html": [
              "<div>\n",
              "<style scoped>\n",
              "    .dataframe tbody tr th:only-of-type {\n",
              "        vertical-align: middle;\n",
              "    }\n",
              "\n",
              "    .dataframe tbody tr th {\n",
              "        vertical-align: top;\n",
              "    }\n",
              "\n",
              "    .dataframe thead th {\n",
              "        text-align: right;\n",
              "    }\n",
              "</style>\n",
              "<table border=\"1\" class=\"dataframe\">\n",
              "  <thead>\n",
              "    <tr style=\"text-align: right;\">\n",
              "      <th></th>\n",
              "      <th>AAPL</th>\n",
              "      <th>GOOG</th>\n",
              "      <th>IBM</th>\n",
              "      <th>MSFT</th>\n",
              "    </tr>\n",
              "  </thead>\n",
              "  <tbody>\n",
              "    <tr>\n",
              "      <th>AAPL</th>\n",
              "      <td>1.000000</td>\n",
              "      <td>0.407919</td>\n",
              "      <td>0.386817</td>\n",
              "      <td>0.389695</td>\n",
              "    </tr>\n",
              "    <tr>\n",
              "      <th>GOOG</th>\n",
              "      <td>0.407919</td>\n",
              "      <td>1.000000</td>\n",
              "      <td>0.405099</td>\n",
              "      <td>0.465919</td>\n",
              "    </tr>\n",
              "    <tr>\n",
              "      <th>IBM</th>\n",
              "      <td>0.386817</td>\n",
              "      <td>0.405099</td>\n",
              "      <td>1.000000</td>\n",
              "      <td>0.499764</td>\n",
              "    </tr>\n",
              "    <tr>\n",
              "      <th>MSFT</th>\n",
              "      <td>0.389695</td>\n",
              "      <td>0.465919</td>\n",
              "      <td>0.499764</td>\n",
              "      <td>1.000000</td>\n",
              "    </tr>\n",
              "  </tbody>\n",
              "</table>\n",
              "</div>"
            ],
            "text/plain": [
              "          AAPL      GOOG       IBM      MSFT\n",
              "AAPL  1.000000  0.407919  0.386817  0.389695\n",
              "GOOG  0.407919  1.000000  0.405099  0.465919\n",
              "IBM   0.386817  0.405099  1.000000  0.499764\n",
              "MSFT  0.389695  0.465919  0.499764  1.000000"
            ]
          },
          "execution_count": 32,
          "metadata": {},
          "output_type": "execute_result"
        }
      ],
      "source": [
        "returns.corr()"
      ]
    },
    {
      "cell_type": "markdown",
      "metadata": {
        "id": "sZV-bP7RLudM"
      },
      "source": [
        "#### `corrwith()`  \n",
        "- 다른 시리즈 또는 데이터프레임과의 상관계수 계산\n",
        "- 시리즈를 인자로 사용하면 각 열에 대한 상관계수를 계산"
      ]
    },
    {
      "cell_type": "code",
      "execution_count": 38,
      "metadata": {
        "id": "qdanZuWGLudM"
      },
      "outputs": [
        {
          "data": {
            "text/plain": [
              "AAPL   -0.001880\n",
              "GOOG    0.033098\n",
              "IBM     0.025460\n",
              "MSFT    0.042389\n",
              "dtype: float64"
            ]
          },
          "execution_count": 38,
          "metadata": {},
          "output_type": "execute_result"
        }
      ],
      "source": [
        "returns.corrwith(price)"
      ]
    },
    {
      "cell_type": "markdown",
      "metadata": {
        "id": "qBuFwB7zLudM"
      },
      "source": [
        "- 데이터프레임에 대해서는 공통 인덱스를 사용하는 모든 열에 대한 상관계수를 계산"
      ]
    },
    {
      "cell_type": "code",
      "execution_count": null,
      "metadata": {
        "id": "WQ8vH_zgLudN"
      },
      "outputs": [],
      "source": []
    },
    {
      "cell_type": "markdown",
      "metadata": {
        "id": "dy12S1uCLudN"
      },
      "source": [
        "### 1.3.2 중복과 빈도수"
      ]
    },
    {
      "cell_type": "markdown",
      "metadata": {
        "id": "NzNwVgtHLudN"
      },
      "source": [
        "#### `unique()`"
      ]
    },
    {
      "cell_type": "markdown",
      "metadata": {
        "id": "oJjF-xVLLudN"
      },
      "source": [
        "- Series에서 사용된 값을 중복 없이 확인하려면 `unique()` 메서드 사용 \n",
        "- `set()` 함수와 유사하게 동작, 넘파이 어레이를 반환"
      ]
    },
    {
      "cell_type": "code",
      "execution_count": 33,
      "metadata": {
        "id": "tGK-dx_JLudN",
        "outputId": "01de6de3-1ef4-4b9a-e22b-465747c44d9f"
      },
      "outputs": [
        {
          "data": {
            "text/plain": [
              "0    c\n",
              "1    a\n",
              "2    d\n",
              "3    a\n",
              "4    a\n",
              "5    b\n",
              "6    b\n",
              "7    c\n",
              "8    c\n",
              "dtype: object"
            ]
          },
          "execution_count": 33,
          "metadata": {},
          "output_type": "execute_result"
        }
      ],
      "source": [
        "obj = pd.Series(['c', 'a', 'd', 'a', 'a', 'b', 'b', 'c', 'c'])\n",
        "obj"
      ]
    },
    {
      "cell_type": "code",
      "execution_count": 39,
      "metadata": {
        "id": "sEZu2THCLudN"
      },
      "outputs": [
        {
          "data": {
            "text/plain": [
              "array(['c', 'a', 'd', 'b'], dtype=object)"
            ]
          },
          "execution_count": 39,
          "metadata": {},
          "output_type": "execute_result"
        }
      ],
      "source": [
        "obj.unique()"
      ]
    },
    {
      "cell_type": "markdown",
      "metadata": {
        "id": "Sw38wC_FLudN"
      },
      "source": [
        "#### `value_counts()`\n",
        "- 값들의 빈도수를 확인하기 위해 사용"
      ]
    },
    {
      "cell_type": "code",
      "execution_count": 34,
      "metadata": {
        "id": "oAn17TKdLudO"
      },
      "outputs": [
        {
          "data": {
            "text/plain": [
              "c    3\n",
              "a    3\n",
              "b    2\n",
              "d    1\n",
              "dtype: int64"
            ]
          },
          "execution_count": 34,
          "metadata": {},
          "output_type": "execute_result"
        }
      ],
      "source": [
        "obj.value_counts()"
      ]
    },
    {
      "cell_type": "code",
      "execution_count": null,
      "metadata": {},
      "outputs": [],
      "source": []
    }
  ],
  "metadata": {
    "colab": {
      "collapsed_sections": [
        "sZV-bP7RLudM",
        "NzNwVgtHLudN"
      ],
      "provenance": []
    },
    "kernelspec": {
      "display_name": "Python 3.9.6 ('pandas': venv)",
      "language": "python",
      "name": "python3"
    },
    "language_info": {
      "codemirror_mode": {
        "name": "ipython",
        "version": 3
      },
      "file_extension": ".py",
      "mimetype": "text/x-python",
      "name": "python",
      "nbconvert_exporter": "python",
      "pygments_lexer": "ipython3",
      "version": "3.9.6"
    },
    "vscode": {
      "interpreter": {
        "hash": "30b57c670695fd04d167e224a77b6b973b5a099f909d2a2bd2114708a12cf819"
      }
    }
  },
  "nbformat": 4,
  "nbformat_minor": 0
}
